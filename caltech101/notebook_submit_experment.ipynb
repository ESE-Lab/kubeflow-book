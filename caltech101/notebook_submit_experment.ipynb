{
 "cells": [
  {
   "cell_type": "code",
   "execution_count": 2,
   "metadata": {},
   "outputs": [
    {
     "name": "stdout",
     "output_type": "stream",
     "text": [
      "{'apiVersion': 'kubeflow.org/v1alpha3', 'kind': 'Experiment', 'metadata': {'creationTimestamp': '2020-03-11T09:17:22Z', 'generation': 1, 'labels': {'controller-tools.k8s.io': '1.0'}, 'name': 'random-003', 'namespace': 'dudaji', 'resourceVersion': '783343', 'selfLink': '/apis/kubeflow.org/v1alpha3/namespaces/dudaji/experiments/random-003', 'uid': '9ec5c700-7b7a-4692-a2c7-0495b13fbef8'}, 'spec': {'algorithm': {'algorithmName': 'random'}, 'maxFailedTrialCount': 3, 'maxTrialCount': 12, 'metricsCollectorSpec': {'collector': {'kind': 'StdOut'}}, 'objective': {'additionalMetricNames': ['Train-accuracy'], 'goal': 0.99, 'objectiveMetricName': 'Validation-accuracy', 'type': 'maximize'}, 'parallelTrialCount': 3, 'parameters': [{'feasibleSpace': {'max': '0.03', 'min': '0.01'}, 'name': '--lr', 'parameterType': 'double'}, {'feasibleSpace': {'max': '5', 'min': '2'}, 'name': '--num-layers', 'parameterType': 'int'}, {'feasibleSpace': {'list': ['sgd', 'adam', 'ftrl']}, 'name': '--optimizer', 'parameterType': 'categorical'}], 'trialTemplate': {'goTemplate': {'rawTemplate': 'apiVersion: batch/v1\\nkind: Job\\nmetadata:\\n  name: {{.Trial}}\\n  namespace: {{.NameSpace}}\\nspec:\\n  template:\\n    spec:\\n      containers:\\n      - name: {{.Trial}}\\n        image: docker.io/kubeflowkatib/mxnet-mnist\\n        command:\\n        - \"python3\"\\n        - \"/opt/mxnet-mnist/mnist.py\"\\n        - \"--batch-size=64\"\\n        {{- with .HyperParameters}}\\n        {{- range .}}\\n        - \"{{.Name}}={{.Value}}\"\\n        {{- end}}\\n        {{- end}}\\n      restartPolicy: Never'}}}}\n"
     ]
    }
   ],
   "source": [
    "from __future__ import print_function\n",
    "import time\n",
    "from kubernetes import client, config\n",
    "from pprint import pprint\n",
    "import yaml\n",
    "\n",
    "class SubmitKatib(object):\n",
    "    def submit(self, experiment_name='random'):\n",
    "        config.load_kube_config()\n",
    "        api = client.CustomObjectsApi()\n",
    "\n",
    "        with open(\"random-example.yaml\") as f:\n",
    "            dep = yaml.safe_load(f)\n",
    "            dep['metadata']['name'] = experiment_name\n",
    "\n",
    "            group = 'kubeflow.org' # str | The custom resource's group name\n",
    "            version = 'v1alpha3' # str | The custom resource's version\n",
    "            namespace = 'dudaji' # str | The custom resource's namespace\n",
    "            plural = \"experiments\"\n",
    "            api_response = api.create_namespaced_custom_object(group=group, plural=plural, version=version, namespace=namespace, body=dep)\n",
    "            print(api_response)\n",
    "            \n",
    "if __name__ == '__main__':\n",
    "    katib = SubmitKatib()\n",
    "    katib.submit(experiment_name='random-003')"
   ]
  },
  {
   "cell_type": "code",
   "execution_count": null,
   "metadata": {},
   "outputs": [],
   "source": []
  }
 ],
 "metadata": {
  "kernelspec": {
   "display_name": "Python 3",
   "language": "python",
   "name": "python3"
  },
  "language_info": {
   "codemirror_mode": {
    "name": "ipython",
    "version": 3
   },
   "file_extension": ".py",
   "mimetype": "text/x-python",
   "name": "python",
   "nbconvert_exporter": "python",
   "pygments_lexer": "ipython3",
   "version": "3.6.8"
  }
 },
 "nbformat": 4,
 "nbformat_minor": 4
}
