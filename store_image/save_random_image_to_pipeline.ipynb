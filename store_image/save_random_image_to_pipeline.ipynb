{
 "cells": [
  {
   "cell_type": "code",
   "execution_count": null,
   "metadata": {},
   "outputs": [],
   "source": [
    "import kfp\n",
    "from kfp import dsl\n",
    "from kubernetes import client as k8s_client\n",
    "\n",
    "\n",
    "@dsl.pipeline(\n",
    "    name='storeImage',\n",
    "    description='Save fashion image'\n",
    ")\n",
    "def store_image():\n",
    "    \n",
    "    kubeflow_pvc = dsl.PipelineVolume(pvc=\"kubeflow-pvc\", name=\"kubeflow-pvc\") ……ⓐ\n",
    "    \n",
    "    cop1 = dsl.ContainerOp(\n",
    "        name='StoreFashionMinst',\n",
    "        image='brightfly/store-fahsionm-image:latest',\n",
    "        command=['python', '/app/save_random_image_from_dataset.py'],\n",
    "        pvolumes={\"/mnt/data\" : kubeflow_pvc}\n",
    "    )\n",
    "\n",
    "if __name__ == '__main__':\n",
    "    kfp.Client().create_run_from_pipeline_func(pipeline_func=store_image,\n",
    "                                               arguments={})"
   ]
  }
 ],
 "metadata": {
  "kernelspec": {
   "display_name": "Python 3",
   "language": "python",
   "name": "python3"
  },
  "language_info": {
   "codemirror_mode": {
    "name": "ipython",
    "version": 3
   },
   "file_extension": ".py",
   "mimetype": "text/x-python",
   "name": "python",
   "nbconvert_exporter": "python",
   "pygments_lexer": "ipython3",
   "version": "3.6.8"
  }
 },
 "nbformat": 4,
 "nbformat_minor": 4
}
