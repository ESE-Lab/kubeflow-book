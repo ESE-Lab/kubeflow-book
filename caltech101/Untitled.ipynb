{
 "cells": [
  {
   "cell_type": "code",
   "execution_count": 35,
   "metadata": {},
   "outputs": [
    {
     "name": "stdout",
     "output_type": "stream",
     "text": [
      "[artifact_id: 19\n",
      "execution_id: 23\n",
      "type: OUTPUT\n",
      "milliseconds_since_epoch: 1583959658115\n",
      "]\n"
     ]
    }
   ],
   "source": [
    "from kubeflow.metadata import metadata\n",
    "from datetime import datetime\n",
    "from uuid import uuid4\n",
    "\n",
    "METADATA_STORE_HOST = \"metadata-grpc-service.kubeflow\" # default DNS of Kubeflow Metadata gRPC serivce.\n",
    "METADATA_STORE_PORT = 8080\n",
    "\n",
    "ws1 = metadata.Workspace(\n",
    "    # Connect to metadata service in namespace kubeflow in k8s cluster.\n",
    "    store=metadata.Store(grpc_host=METADATA_STORE_HOST, grpc_port=METADATA_STORE_PORT),\n",
    "    name=\"katib-job\",\n",
    "    description=\"a workspace for testing\",\n",
    "    labels={\"n1\": \"v1\"})\n",
    "\n",
    "r = metadata.Run(\n",
    "    workspace=ws1,\n",
    "    name=\"dudaji-katib\" ,\n",
    "    description=\"katib run\",\n",
    ")\n",
    "\n",
    "exec = metadata.Execution(\n",
    "name = \"execution\" + datetime.utcnow().isoformat(\"T\") , workspace=ws1,\n",
    "run=r,\n",
    "description=\"execution katib\",\n",
    ")\n",
    "\n",
    "model_version = \"model_version_\" + str(uuid4())\n",
    "model = exec.log_output(\n",
    "    metadata.Model(\n",
    "            name=\"dudaji-katib\",\n",
    "            uri=\"none\",\n",
    "            model_type=\"katib\",\n",
    "            hyperparameters={'condition': 'Succeeded', 'bestTrialName': 'dudaji-katib-1583932201-r5xtgddt', 'bestValidAccuracy': 0.979598},\n",
    "            version=model_version,\n",
    "            labels={\"mylabel\": \"l1\"})\n",
    ")\n",
    "\n",
    "model_events = ws1.store.get_events_by_artifact_ids([model.id])\n",
    "print(model_events)"
   ]
  },
  {
   "cell_type": "code",
   "execution_count": 34,
   "metadata": {},
   "outputs": [
    {
     "name": "stdout",
     "output_type": "stream",
     "text": [
      "Requirement already satisfied: kubeflow-metadata in /usr/local/lib/python3.6/dist-packages (0.3.1)\n",
      "Requirement already satisfied: retrying in /usr/local/lib/python3.6/dist-packages (from kubeflow-metadata) (1.3.3)\n",
      "Requirement already satisfied: ml-metadata==0.21.1 in /usr/local/lib/python3.6/dist-packages (from kubeflow-metadata) (0.21.1)\n",
      "Requirement already satisfied: six>=1.7.0 in /usr/lib/python3/dist-packages (from retrying->kubeflow-metadata) (1.11.0)\n",
      "Requirement already satisfied: tensorflow!=2.0.*,<3,>=1.15 in /usr/local/lib/python3.6/dist-packages (from ml-metadata==0.21.1->kubeflow-metadata) (2.1.0)\n",
      "Requirement already satisfied: absl-py<1,>=0.7 in /usr/local/lib/python3.6/dist-packages (from ml-metadata==0.21.1->kubeflow-metadata) (0.8.0)\n",
      "Requirement already satisfied: protobuf<4,>=3.7 in /usr/local/lib/python3.6/dist-packages (from ml-metadata==0.21.1->kubeflow-metadata) (3.9.2)\n",
      "Requirement already satisfied: wheel>=0.26; python_version >= \"3\" in /usr/lib/python3/dist-packages (from tensorflow!=2.0.*,<3,>=1.15->ml-metadata==0.21.1->kubeflow-metadata) (0.30.0)\n",
      "Requirement already satisfied: tensorflow-estimator<2.2.0,>=2.1.0rc0 in /usr/local/lib/python3.6/dist-packages (from tensorflow!=2.0.*,<3,>=1.15->ml-metadata==0.21.1->kubeflow-metadata) (2.1.0)\n",
      "Requirement already satisfied: opt-einsum>=2.3.2 in /usr/local/lib/python3.6/dist-packages (from tensorflow!=2.0.*,<3,>=1.15->ml-metadata==0.21.1->kubeflow-metadata) (3.1.0)\n",
      "Requirement already satisfied: termcolor>=1.1.0 in /usr/local/lib/python3.6/dist-packages (from tensorflow!=2.0.*,<3,>=1.15->ml-metadata==0.21.1->kubeflow-metadata) (1.1.0)\n",
      "Requirement already satisfied: keras-applications>=1.0.8 in /usr/local/lib/python3.6/dist-packages (from tensorflow!=2.0.*,<3,>=1.15->ml-metadata==0.21.1->kubeflow-metadata) (1.0.8)\n",
      "Requirement already satisfied: google-pasta>=0.1.6 in /usr/local/lib/python3.6/dist-packages (from tensorflow!=2.0.*,<3,>=1.15->ml-metadata==0.21.1->kubeflow-metadata) (0.1.7)\n",
      "Requirement already satisfied: gast==0.2.2 in /usr/local/lib/python3.6/dist-packages (from tensorflow!=2.0.*,<3,>=1.15->ml-metadata==0.21.1->kubeflow-metadata) (0.2.2)\n",
      "Requirement already satisfied: keras-preprocessing>=1.1.0 in /usr/local/lib/python3.6/dist-packages (from tensorflow!=2.0.*,<3,>=1.15->ml-metadata==0.21.1->kubeflow-metadata) (1.1.0)\n",
      "Requirement already satisfied: tensorboard<2.2.0,>=2.1.0 in /usr/local/lib/python3.6/dist-packages (from tensorflow!=2.0.*,<3,>=1.15->ml-metadata==0.21.1->kubeflow-metadata) (2.1.1)\n",
      "Requirement already satisfied: wrapt>=1.11.1 in /usr/local/lib/python3.6/dist-packages (from tensorflow!=2.0.*,<3,>=1.15->ml-metadata==0.21.1->kubeflow-metadata) (1.11.2)\n",
      "Requirement already satisfied: grpcio>=1.8.6 in /usr/local/lib/python3.6/dist-packages (from tensorflow!=2.0.*,<3,>=1.15->ml-metadata==0.21.1->kubeflow-metadata) (1.24.0)\n",
      "Requirement already satisfied: numpy<2.0,>=1.16.0 in /usr/local/lib/python3.6/dist-packages (from tensorflow!=2.0.*,<3,>=1.15->ml-metadata==0.21.1->kubeflow-metadata) (1.18.0)\n",
      "Requirement already satisfied: scipy==1.4.1; python_version >= \"3\" in /usr/local/lib/python3.6/dist-packages (from tensorflow!=2.0.*,<3,>=1.15->ml-metadata==0.21.1->kubeflow-metadata) (1.4.1)\n",
      "Requirement already satisfied: astor>=0.6.0 in /usr/local/lib/python3.6/dist-packages (from tensorflow!=2.0.*,<3,>=1.15->ml-metadata==0.21.1->kubeflow-metadata) (0.8.0)\n",
      "Requirement already satisfied: setuptools in /usr/local/lib/python3.6/dist-packages (from protobuf<4,>=3.7->ml-metadata==0.21.1->kubeflow-metadata) (41.2.0)\n",
      "Requirement already satisfied: h5py in /usr/local/lib/python3.6/dist-packages (from keras-applications>=1.0.8->tensorflow!=2.0.*,<3,>=1.15->ml-metadata==0.21.1->kubeflow-metadata) (2.10.0)\n",
      "Requirement already satisfied: requests<3,>=2.21.0 in /usr/local/lib/python3.6/dist-packages (from tensorboard<2.2.0,>=2.1.0->tensorflow!=2.0.*,<3,>=1.15->ml-metadata==0.21.1->kubeflow-metadata) (2.22.0)\n",
      "Requirement already satisfied: google-auth-oauthlib<0.5,>=0.4.1 in /usr/local/lib/python3.6/dist-packages (from tensorboard<2.2.0,>=2.1.0->tensorflow!=2.0.*,<3,>=1.15->ml-metadata==0.21.1->kubeflow-metadata) (0.4.1)\n",
      "Requirement already satisfied: markdown>=2.6.8 in /usr/local/lib/python3.6/dist-packages (from tensorboard<2.2.0,>=2.1.0->tensorflow!=2.0.*,<3,>=1.15->ml-metadata==0.21.1->kubeflow-metadata) (3.1.1)\n",
      "Requirement already satisfied: google-auth<2,>=1.6.3 in /usr/local/lib/python3.6/dist-packages (from tensorboard<2.2.0,>=2.1.0->tensorflow!=2.0.*,<3,>=1.15->ml-metadata==0.21.1->kubeflow-metadata) (1.10.0)\n",
      "Requirement already satisfied: werkzeug>=0.11.15 in /usr/local/lib/python3.6/dist-packages (from tensorboard<2.2.0,>=2.1.0->tensorflow!=2.0.*,<3,>=1.15->ml-metadata==0.21.1->kubeflow-metadata) (0.16.0)\n",
      "Requirement already satisfied: certifi>=2017.4.17 in /usr/local/lib/python3.6/dist-packages (from requests<3,>=2.21.0->tensorboard<2.2.0,>=2.1.0->tensorflow!=2.0.*,<3,>=1.15->ml-metadata==0.21.1->kubeflow-metadata) (2019.11.28)\n",
      "Requirement already satisfied: idna<2.9,>=2.5 in /usr/lib/python3/dist-packages (from requests<3,>=2.21.0->tensorboard<2.2.0,>=2.1.0->tensorflow!=2.0.*,<3,>=1.15->ml-metadata==0.21.1->kubeflow-metadata) (2.6)\n",
      "Requirement already satisfied: urllib3!=1.25.0,!=1.25.1,<1.26,>=1.21.1 in /usr/local/lib/python3.6/dist-packages (from requests<3,>=2.21.0->tensorboard<2.2.0,>=2.1.0->tensorflow!=2.0.*,<3,>=1.15->ml-metadata==0.21.1->kubeflow-metadata) (1.24.2)\n",
      "Requirement already satisfied: chardet<3.1.0,>=3.0.2 in /usr/local/lib/python3.6/dist-packages (from requests<3,>=2.21.0->tensorboard<2.2.0,>=2.1.0->tensorflow!=2.0.*,<3,>=1.15->ml-metadata==0.21.1->kubeflow-metadata) (3.0.4)\n",
      "Requirement already satisfied: requests-oauthlib>=0.7.0 in /usr/local/lib/python3.6/dist-packages (from google-auth-oauthlib<0.5,>=0.4.1->tensorboard<2.2.0,>=2.1.0->tensorflow!=2.0.*,<3,>=1.15->ml-metadata==0.21.1->kubeflow-metadata) (1.3.0)\n",
      "Requirement already satisfied: rsa<4.1,>=3.1.4 in /usr/local/lib/python3.6/dist-packages (from google-auth<2,>=1.6.3->tensorboard<2.2.0,>=2.1.0->tensorflow!=2.0.*,<3,>=1.15->ml-metadata==0.21.1->kubeflow-metadata) (4.0)\n",
      "Requirement already satisfied: pyasn1-modules>=0.2.1 in /usr/local/lib/python3.6/dist-packages (from google-auth<2,>=1.6.3->tensorboard<2.2.0,>=2.1.0->tensorflow!=2.0.*,<3,>=1.15->ml-metadata==0.21.1->kubeflow-metadata) (0.2.7)\n",
      "Requirement already satisfied: cachetools<5.0,>=2.0.0 in /usr/local/lib/python3.6/dist-packages (from google-auth<2,>=1.6.3->tensorboard<2.2.0,>=2.1.0->tensorflow!=2.0.*,<3,>=1.15->ml-metadata==0.21.1->kubeflow-metadata) (4.0.0)\n",
      "Requirement already satisfied: oauthlib>=3.0.0 in /usr/local/lib/python3.6/dist-packages (from requests-oauthlib>=0.7.0->google-auth-oauthlib<0.5,>=0.4.1->tensorboard<2.2.0,>=2.1.0->tensorflow!=2.0.*,<3,>=1.15->ml-metadata==0.21.1->kubeflow-metadata) (3.1.0)\n",
      "Requirement already satisfied: pyasn1>=0.1.3 in /usr/local/lib/python3.6/dist-packages (from rsa<4.1,>=3.1.4->google-auth<2,>=1.6.3->tensorboard<2.2.0,>=2.1.0->tensorflow!=2.0.*,<3,>=1.15->ml-metadata==0.21.1->kubeflow-metadata) (0.4.8)\n",
      "\u001b[33mWARNING: You are using pip version 19.2.3, however version 20.0.2 is available.\n",
      "You should consider upgrading via the 'pip install --upgrade pip' command.\u001b[0m\n"
     ]
    }
   ],
   "source": [
    "!pip install kubeflow-metadata"
   ]
  },
  {
   "cell_type": "code",
   "execution_count": null,
   "metadata": {},
   "outputs": [],
   "source": []
  }
 ],
 "metadata": {
  "kernelspec": {
   "display_name": "Python 3",
   "language": "python",
   "name": "python3"
  },
  "language_info": {
   "codemirror_mode": {
    "name": "ipython",
    "version": 3
   },
   "file_extension": ".py",
   "mimetype": "text/x-python",
   "name": "python",
   "nbconvert_exporter": "python",
   "pygments_lexer": "ipython3",
   "version": "3.6.8"
  }
 },
 "nbformat": 4,
 "nbformat_minor": 4
}
