{
 "cells": [
  {
   "cell_type": "code",
   "execution_count": 27,
   "metadata": {},
   "outputs": [
    {
     "data": {
      "text/html": [
       "Experiment link <a href=\"/pipeline/#/experiments/details/176ba495-1f3a-4add-9e30-42fe157594b5\" target=\"_blank\" >here</a>"
      ],
      "text/plain": [
       "<IPython.core.display.HTML object>"
      ]
     },
     "metadata": {},
     "output_type": "display_data"
    },
    {
     "data": {
      "text/html": [
       "Run link <a href=\"/pipeline/#/runs/details/50011a60-a529-4ef5-951a-28158830da91\" target=\"_blank\" >here</a>"
      ],
      "text/plain": [
       "<IPython.core.display.HTML object>"
      ]
     },
     "metadata": {},
     "output_type": "display_data"
    }
   ],
   "source": [
    "import kfp\n",
    "import kfp.dsl as dsl\n",
    "from kfp.components import func_to_container_op\n",
    "import time\n",
    "\n",
    "\n",
    "@func_to_container_op\n",
    "def result_output(result) -> str:\n",
    "    import json\n",
    "    result = result.replace(\"'\", r\"\\\"\")\n",
    "    out_dict = json.loads(result)['out']\n",
    "    metadata_dict = json.loads(out_dict)\n",
    "    return metadata_dict['name']\n",
    "\n",
    "def echo_op(text):\n",
    "    return dsl.ContainerOp(\n",
    "        name='echo',\n",
    "        image='library/bash:4.4.23'\n",
    "        command=['sh', '-c'],\n",
    "        arguments=['echo \"$0\"', text],\n",
    "    )\n",
    "\n",
    "@dsl.pipeline(\n",
    "    name='katib_pipeline',\n",
    "    description='submit katibe experiemnt on pipeline'\n",
    ")\n",
    "def katib_pipeline(host, token, experiment_name):\n",
    "    \n",
    "    exit_task = echo_op(\"done\")\n",
    "    \n",
    "    with dsl.ExitHandler(exit_task): \n",
    "                \n",
    "        katib = dsl.ContainerOp(\n",
    "            name='SubmitKatibExperiment',\n",
    "            image='kubeflow-registry.default.svc.cluster.local:30000/experiement-runner:4B7896D4',\n",
    "            command=['python', '/app/notebook_submit_experment_with_token.py'],\n",
    "            arguments=[\n",
    "                \"--host\", host,\n",
    "                \"--token\", token,\n",
    "                \"--experiment_name\", experiment_name\n",
    "            ],\n",
    "            file_outputs={'out': '/tmp/result.json'}\n",
    "        )\n",
    "        result = result_output(katib.outputs).after(katib)\n",
    "        echo_op(result.output)\n",
    "\n",
    "\n",
    "arguments = {'host': 'https://10.x.0.x:6443',\n",
    "             'experiment_name': 'dudaji-katib',\n",
    "             'token' : 'eyJhbG...fVQ'\n",
    "            }\n",
    "    \n",
    "if __name__ == '__main__':\n",
    "    kfp.Client().create_run_from_pipeline_func(pipeline_func=katib_pipeline, \n",
    "                                               arguments=arguments)"
   ]
  },
  {
   "cell_type": "code",
   "execution_count": null,
   "metadata": {},
   "outputs": [],
   "source": []
  },
  {
   "cell_type": "code",
   "execution_count": null,
   "metadata": {},
   "outputs": [],
   "source": [
    "!pip install json"
   ]
  }
 ],
 "metadata": {
  "kernelspec": {
   "display_name": "Python 3",
   "language": "python",
   "name": "python3"
  },
  "language_info": {
   "codemirror_mode": {
    "name": "ipython",
    "version": 3
   },
   "file_extension": ".py",
   "mimetype": "text/x-python",
   "name": "python",
   "nbconvert_exporter": "python",
   "pygments_lexer": "ipython3",
   "version": "3.6.8"
  }
 },
 "nbformat": 4,
 "nbformat_minor": 4
}
