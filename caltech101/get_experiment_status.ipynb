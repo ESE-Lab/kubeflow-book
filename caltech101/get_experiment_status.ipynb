{
 "cells": [
  {
   "cell_type": "code",
   "execution_count": 2,
   "metadata": {
    "scrolled": true
   },
   "outputs": [
    {
     "name": "stderr",
     "output_type": "stream",
     "text": [
      "[W 200311 19:23:36 append:50] Building image using Append builder...\n",
      "[I 200311 19:23:36 base:105] Creating docker context: /tmp/fairing_context_o1x3ue46\n",
      "[I 200311 19:23:36 converted_notebook:127] Converting get_experiment_status.ipynb to get_experiment_status.py\n",
      "[I 200311 19:23:36 docker_creds_:234] Loading Docker credentials for repository 'brightfly/kubeflow-sdk-jupyter:latest'\n",
      "[W 200311 19:23:39 append:54] Image successfully built in 2.4642041709739715s.\n",
      "[W 200311 19:23:39 append:94] Pushing image kubeflow-registry.default.svc.cluster.local:30000/get-experiment-status:F6AF7F91...\n",
      "[I 200311 19:23:39 docker_creds_:234] Loading Docker credentials for repository 'kubeflow-registry.default.svc.cluster.local:30000/get-experiment-status:F6AF7F91'\n",
      "[W 200311 19:23:39 append:81] Uploading kubeflow-registry.default.svc.cluster.local:30000/get-experiment-status:F6AF7F91\n",
      "[I 200311 19:23:39 docker_session_:280] Layer sha256:8071c3c5f669576be5a4e71a495499ab26710675a28a740142fd1ba5182bfc64 exists, skipping\n",
      "[I 200311 19:23:39 docker_session_:280] Layer sha256:cca39fae605e93acc943d435c5bd60d91b7c20604a0c601957efa413e8e68263 exists, skipping\n",
      "[I 200311 19:23:39 docker_session_:280] Layer sha256:bed4ecf88e6a7ee9d32994c60892873ab8a3e199abdfbad73488537b1d3d52dd exists, skipping\n",
      "[I 200311 19:23:39 docker_session_:280] Layer sha256:94d1c1cbf3472669fed46b4ea379faec99e1d3e8fae0cbbbda69ff2de6e8d3e3 exists, skipping\n",
      "[I 200311 19:23:39 docker_session_:280] Layer sha256:2c7bfb8d8412ba9e89b9b91e7574e5d9135306dc3773666131133b3947da0d35 exists, skipping\n",
      "[I 200311 19:23:39 docker_session_:280] Layer sha256:feb2327630f9f98e152660e68c449385b7ffc389c8a7316ad3f4c7f21cf5478b exists, skipping\n",
      "[I 200311 19:23:39 docker_session_:280] Layer sha256:667692510b7038b74e221f92eb33610e4968b669c8a718378ecb1f78739c3713 exists, skipping\n",
      "[I 200311 19:23:39 docker_session_:280] Layer sha256:6513a2441bbb9c00028b9356cd6e5236b61dbd3a1fe5d2bcaf9c84093210b4e1 exists, skipping\n",
      "[I 200311 19:23:39 docker_session_:280] Layer sha256:c7b7d16361e00faca0e9393f3f43923f25ceb1210face87839dfc5de988905c1 exists, skipping\n",
      "[I 200311 19:23:39 docker_session_:280] Layer sha256:1128949d0793d2435bb1f0640a777f32feee88b71d4fe234121c3cfb345a80c4 exists, skipping\n",
      "[I 200311 19:23:39 docker_session_:280] Layer sha256:b7a128769df1909f91b589d0a4a2e1c1671aebc047a9f46b4b30dfeb7308ea6a exists, skipping\n",
      "[I 200311 19:23:39 docker_session_:280] Layer sha256:410906247886fe0a1fb6d372ba6cfcd7ba3302804674206cd3d86f3f38cc5673 exists, skipping\n",
      "[I 200311 19:23:39 docker_session_:280] Layer sha256:ffe6a9039d33521b6121d12b4eefb056374d8b7e2497f06648db150d402c2830 exists, skipping\n",
      "[I 200311 19:23:39 docker_session_:280] Layer sha256:f59f6b55cd0f8a3f14600d50d494ed7a0030db4d9704fe5ed9e68b9d4ac6430a exists, skipping\n",
      "[I 200311 19:23:39 docker_session_:280] Layer sha256:ebaa78466e2a08e19ea77bbdcbc5f985871b0ee5ca7df650c471d2c347acb92b exists, skipping\n",
      "[I 200311 19:23:39 docker_session_:280] Layer sha256:e9175a67ce54bec8da120ad5a92553182568c09d96863c1c7d9c5ebbfc5ccc5b exists, skipping\n",
      "[I 200311 19:23:39 docker_session_:280] Layer sha256:6d97b65a9a3c4f5e83de632e7ea6075c27321668d76719c625c1191aa6cbc17e exists, skipping\n",
      "[I 200311 19:23:39 docker_session_:280] Layer sha256:792e28117005a7b637f36ae6c3b372ca8fc9d11802acce09c5eb8d5f6dd8ceb0 exists, skipping\n",
      "[I 200311 19:23:39 docker_session_:284] Layer sha256:fa0cecd8abdedf503b714c98992e87a4635f90c2481ca137ce0062a6dcf495f2 pushed.\n",
      "[I 200311 19:23:39 docker_session_:284] Layer sha256:5a6096aebc6e24f09ffbd8e8e474ba777732b706eab28fd7519c408ab9335fa7 pushed.\n",
      "[I 200311 19:23:39 docker_session_:334] Finished upload of: kubeflow-registry.default.svc.cluster.local:30000/get-experiment-status:F6AF7F91\n",
      "[W 200311 19:23:39 append:99] Pushed image kubeflow-registry.default.svc.cluster.local:30000/get-experiment-status:F6AF7F91 in 0.11347935898811556s.\n"
     ]
    }
   ],
   "source": [
    "from __future__ import print_function\n",
    "import time\n",
    "from kubernetes import client, config\n",
    "import kubernetes\n",
    "from pprint import pprint\n",
    "import yaml\n",
    "import os\n",
    "import argparse\n",
    "import time\n",
    "import json\n",
    "import requests\n",
    "import redis\n",
    "\n",
    "class GetKatibExperimentStatus(object):\n",
    "    def get(self) -> str:\n",
    "        # 입력 값을 받게 추가합니다.\n",
    "        parser = argparse.ArgumentParser()\n",
    "        parser.add_argument('--host', required=False, type=str, default='https://localhost:6443')                \n",
    "        parser.add_argument('--token', required=False, type=str, default='ey...VQ')\n",
    "        parser.add_argument('--experiment_name', required=False, type=str, default='dudaji-katib-1583932201')        \n",
    "        parser.add_argument('--namespace', required=False, type=str, default='dudaji')        \n",
    "        args = parser.parse_args()          \n",
    "\n",
    "        host = args.host\n",
    "        headers = {'Authorization': 'Bearer ' + args.token }\n",
    "        resp = requests.get(host + '/apis/kubeflow.org/v1alpha3/namespaces/' + args.namespace + '/experiments/' + args.experiment_name, \n",
    "                            headers=headers, \n",
    "                            verify=False)\n",
    "        response_dict = json.loads(resp.text)\n",
    "        status_dict = response_dict['status']\n",
    "        condition = status_dict['conditions'][len(status_dict['conditions'])-1]['type']\n",
    "        bestTrialName = status_dict['currentOptimalTrial']['bestTrialName']\n",
    "        bestValidAccuracy = status_dict['currentOptimalTrial']['observation']['metrics'][0]['value']\n",
    "        result = {'condition' : condition, 'bestTrialName': bestTrialName, 'bestValidAccuracy': bestValidAccuracy }\n",
    "        print(\"result \"  + str(result))\n",
    "        with open('/tmp/result.json', 'w') as outfile:\n",
    "            outfile.write(str(result))        \n",
    "            \n",
    "if __name__ == '__main__':\n",
    "    if os.getenv('FAIRING_RUNTIME', None) is None:\n",
    "        from kubeflow.fairing.builders.append.append import AppendBuilder\n",
    "        from kubeflow.fairing.preprocessors.converted_notebook import \\\n",
    "            ConvertNotebookPreprocessor\n",
    "\n",
    "        DOCKER_REGISTRY = 'kubeflow-registry.default.svc.cluster.local:30000'\n",
    "        base_image = 'brightfly/kubeflow-sdk-jupyter:latest'\n",
    "        image_name = 'get-experiment-status'\n",
    "        \n",
    "        builder = AppendBuilder(\n",
    "            registry=DOCKER_REGISTRY,\n",
    "            image_name=image_name,\n",
    "            base_image=base_image,\n",
    "            push=True,\n",
    "            preprocessor=ConvertNotebookPreprocessor(\n",
    "                notebook_file=\"get_experiment_status.ipynb\"\n",
    "            )\n",
    "        )\n",
    "        builder.build()\n",
    "        \n",
    "    else:\n",
    "        status = GetKatibExperimentStatus()\n",
    "        status.get()\n"
   ]
  },
  {
   "cell_type": "code",
   "execution_count": 3,
   "metadata": {},
   "outputs": [
    {
     "name": "stdout",
     "output_type": "stream",
     "text": [
      "Collecting redis\n",
      "\u001b[?25l  Downloading https://files.pythonhosted.org/packages/f0/05/1fc7feedc19c123e7a95cfc9e7892eb6cdd2e5df4e9e8af6384349c1cc3d/redis-3.4.1-py2.py3-none-any.whl (71kB)\n",
      "\u001b[K     |████████████████████████████████| 71kB 25.7MB/s eta 0:00:01\n",
      "\u001b[?25hInstalling collected packages: redis\n",
      "Successfully installed redis-3.4.1\n",
      "\u001b[33mWARNING: You are using pip version 19.2.3, however version 20.0.2 is available.\n",
      "You should consider upgrading via the 'pip install --upgrade pip' command.\u001b[0m\n"
     ]
    }
   ],
   "source": [
    "!pip install redis"
   ]
  }
 ],
 "metadata": {
  "kernelspec": {
   "display_name": "Python 3",
   "language": "python",
   "name": "python3"
  },
  "language_info": {
   "codemirror_mode": {
    "name": "ipython",
    "version": 3
   },
   "file_extension": ".py",
   "mimetype": "text/x-python",
   "name": "python",
   "nbconvert_exporter": "python",
   "pygments_lexer": "ipython3",
   "version": "3.6.8"
  }
 },
 "nbformat": 4,
 "nbformat_minor": 4
}
