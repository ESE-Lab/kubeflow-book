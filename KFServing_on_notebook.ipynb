{
 "cells": [
  {
   "cell_type": "code",
   "execution_count": 2,
   "metadata": {},
   "outputs": [
    {
     "name": "stdout",
     "output_type": "stream",
     "text": [
      "NAME                 READY      DEFAULT_TRAFFIC CANARY_TRAFFIC  URL                                               \n",
      "fashion-mnist-server Unknown                                                                                      \n",
      "fashion-mnist-server False                                                                                        \n",
      "fashion-mnist-server False                                                                                        \n",
      "fashion-mnist-server False                                                                                        \n",
      "fashion-mnist-server True       100                             http://fashion-mnist-server.dudaji.example.com/...\n"
     ]
    }
   ],
   "source": [
    "from kubernetes import client\n",
    "from kfserving import KFServingClient\n",
    "from kfserving import constants\n",
    "from kfserving import utils\n",
    "from kfserving import V1alpha2EndpointSpec\n",
    "from kfserving import V1alpha2PredictorSpec\n",
    "from kfserving import V1alpha2TensorflowSpec\n",
    "from kfserving import V1alpha2InferenceServiceSpec\n",
    "from kfserving import V1alpha2InferenceService\n",
    "from kubernetes.client import V1ResourceRequirements\n",
    "import os\n",
    "import sys\n",
    "import argparse\n",
    "import logging\n",
    "\n",
    "'''\n",
    "'''\n",
    "class KFServingOnNoteBook(object):\n",
    "    def serving(self, storage_uri, namespace, serving_name):\n",
    "        api_version = constants.KFSERVING_GROUP + '/' + constants.KFSERVING_VERSION\n",
    "        default_endpoint_spec = V1alpha2EndpointSpec(\n",
    "                                  predictor=V1alpha2PredictorSpec(\n",
    "                                    tensorflow=V1alpha2TensorflowSpec(\n",
    "                                      storage_uri=storage_uri,\n",
    "                                      resources=V1ResourceRequirements(\n",
    "                                          requests={'cpu':'100m','memory':'1Gi'},\n",
    "                                          limits={'cpu':'100m', 'memory':'1Gi'}))))\n",
    "        isvc = V1alpha2InferenceService(api_version=api_version,\n",
    "                                  kind=constants.KFSERVING_KIND,\n",
    "                                  metadata=client.V1ObjectMeta(\n",
    "                                      name=serving_name, namespace=namespace),\n",
    "                                  spec=V1alpha2InferenceServiceSpec(default=default_endpoint_spec))        \n",
    "\n",
    "        KFServing = KFServingClient()\n",
    "        KFServing.create(isvc)\n",
    "\n",
    "        KFServing.get(serving_name, namespace=namespace, watch=True, timeout_seconds=300)\n",
    "        \n",
    "if __name__ == '__main__':\n",
    "    serving_service = KFServingOnNoteBook()\n",
    "    serving_service.serving(\"pvc://fashion-mnist/saved_model\", \"dudaji\", \"fashion-mnist-server\")\n",
    "        "
   ]
  },
  {
   "cell_type": "code",
   "execution_count": 6,
   "metadata": {},
   "outputs": [
    {
     "name": "stdout",
     "output_type": "stream",
     "text": [
      "NAME                   URL                                                                             READY   DEFAULT TRAFFIC   CANARY TRAFFIC   AGE\n",
      "fashion-mnist-server   http://fashion-mnist-server.dudaji.example.com/v1/models/fashion-mnist-server   True    100                                51m\n"
     ]
    }
   ],
   "source": [
    "!kubectl get inferenceservice"
   ]
  },
  {
   "cell_type": "code",
   "execution_count": 3,
   "metadata": {},
   "outputs": [
    {
     "name": "stdout",
     "output_type": "stream",
     "text": [
      "NAME                                                 TYPE           CLUSTER-IP       EXTERNAL-IP                                           PORT(S)             AGE\n",
      "fashion-mnist                                        ClusterIP      10.97.254.46     <none>                                                80/TCP              16h\n",
      "fashion-mnist-server-predictor-default               ExternalName   <none>           istio-ingressgateway.istio-system.svc.cluster.local   <none>              12m\n",
      "fashion-mnist-server-predictor-default-mpw4f         ClusterIP      10.106.86.184    <none>                                                80/TCP              12m\n",
      "fashion-mnist-server-predictor-default-mpw4f-shn5p   ClusterIP      10.109.15.117    <none>                                                80/TCP              12m\n",
      "fashion-mnist-server-predictor-default-mpw4f-xfhbg   ClusterIP      10.103.188.45    <none>                                                9090/TCP,9091/TCP   12m\n",
      "lab-test                                             ClusterIP      10.111.251.151   <none>                                                80/TCP              4d2h\n",
      "mnist-worker-0                                       ClusterIP      None             <none>                                                2222/TCP            25h\n"
     ]
    }
   ],
   "source": [
    "!kubectl get svc"
   ]
  },
  {
   "cell_type": "code",
   "execution_count": 5,
   "metadata": {},
   "outputs": [
    {
     "name": "stdout",
     "output_type": "stream",
     "text": [
      "The given SavedModel SignatureDef contains the following input(s):\n",
      "  inputs['flatten_input'] tensor_info:\n",
      "      dtype: DT_FLOAT\n",
      "      shape: (-1, 28, 28)\n",
      "      name: serving_default_flatten_input:0\n",
      "The given SavedModel SignatureDef contains the following output(s):\n",
      "  outputs['dense_1'] tensor_info:\n",
      "      dtype: DT_FLOAT\n",
      "      shape: (-1, 10)\n",
      "      name: StatefulPartitionedCall:0\n",
      "Method name is: tensorflow/serving/predict\n"
     ]
    }
   ],
   "source": [
    "!saved_model_cli show --dir ./saved_model/001 --tag_set serve --signature_def serving_default"
   ]
  },
  {
   "cell_type": "code",
   "execution_count": null,
   "metadata": {},
   "outputs": [],
   "source": []
  }
 ],
 "metadata": {
  "kernelspec": {
   "display_name": "Python 3",
   "language": "python",
   "name": "python3"
  },
  "language_info": {
   "codemirror_mode": {
    "name": "ipython",
    "version": 3
   },
   "file_extension": ".py",
   "mimetype": "text/x-python",
   "name": "python",
   "nbconvert_exporter": "python",
   "pygments_lexer": "ipython3",
   "version": "3.6.8"
  }
 },
 "nbformat": 4,
 "nbformat_minor": 4
}
