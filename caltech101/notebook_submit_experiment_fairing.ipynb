{
 "cells": [
  {
   "cell_type": "code",
   "execution_count": null,
   "metadata": {},
   "outputs": [],
   "source": [
    "from __future__ import print_function\n",
    "import time\n",
    "from kubernetes import client, config\n",
    "from pprint import pprint\n",
    "import yaml\n",
    "import argparse\n",
    "\n",
    "class SubmitKatib(object):\n",
    "    def submit(self):\n",
    "                # 입력 값을 받게 추가합니다.\n",
    "        parser = argparse.ArgumentParser()\n",
    "        parser.add_argument('--experiment_name', required=False, type=str, default='experiment-name')        \n",
    "        parser.add_argument('--yaml_name', required=False, type=str, default='random-examle.yaml')                \n",
    "        args = parser.parse_args()  \n",
    "        \n",
    "        config.load_kube_config()\n",
    "        api = client.CustomObjectsApi()\n",
    "\n",
    "        with open(args.yaml_name) as f:\n",
    "            dep = yaml.safe_load(f)\n",
    "            dep['metadata']['name'] = args.experiment_name\n",
    "\n",
    "            group = 'kubeflow.org' # str | The custom resource's group name\n",
    "            version = 'v1alpha3' # str | The custom resource's version\n",
    "            namespace = 'kubeflow' # str | The custom resource's namespace\n",
    "            plural = \"experiments\"\n",
    "            api_response = api.create_namespaced_custom_object(group=group, plural=plural, version=version, namespace=namespace, body=dep)\n",
    "            print(api_response)\n",
    "            \n",
    "if __name__ == '__main__':\n",
    "    if os.getenv('FAIRING_RUNTIME', None) is None:\n",
    "        from kubeflow import fairing\n",
    "        from kubeflow.fairing.kubernetes import utils as k8s_utils\n",
    "        DOCKER_REGISTRY = 'kubeflow-registry.default.svc.cluster.local:30000'\n",
    "        fairing.config.set_builder(\n",
    "            'append',\n",
    "            image_name='experiement-runner',\n",
    "            base_image='brightfly/kubeflow-sdk-jupyter:latest',\n",
    "            registry=DOCKER_REGISTRY,\n",
    "            push=True)\n",
    "        \n",
    "        fairing.config.set_deployer('job',\n",
    "                                    namespace='dudaji',\n",
    "                                    pod_spec_mutators=[\n",
    "                                    k8s_utils.mounting_pvc(pvc_name=\"caltech101\", \n",
    "                                                          pvc_mount_path=\"/result\")]\n",
    "                                    )\n",
    "        # python3\n",
    "        import IPython\n",
    "        ipy = IPython.get_ipython()\n",
    "        if ipy is None:\n",
    "            fairing.config.set_preprocessor('python', input_files=[__file__])        \n",
    "        fairing.config.run()\n",
    "    else:\n",
    "        katib = SubmitKatib()\n",
    "        katib.submit()"
   ]
  }
 ],
 "metadata": {
  "kernelspec": {
   "display_name": "Python 3",
   "language": "python",
   "name": "python3"
  },
  "language_info": {
   "codemirror_mode": {
    "name": "ipython",
    "version": 3
   },
   "file_extension": ".py",
   "mimetype": "text/x-python",
   "name": "python",
   "nbconvert_exporter": "python",
   "pygments_lexer": "ipython3",
   "version": "3.6.8"
  }
 },
 "nbformat": 4,
 "nbformat_minor": 4
}
